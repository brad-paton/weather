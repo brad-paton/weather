{
  "nbformat": 4,
  "nbformat_minor": 0,
  "metadata": {
    "colab": {
      "provenance": []
    },
    "kernelspec": {
      "name": "python3",
      "display_name": "Python 3"
    },
    "language_info": {
      "name": "python"
    }
  },
  "cells": [
    {
      "cell_type": "markdown",
      "source": [
        "Imports"
      ],
      "metadata": {
        "id": "5VBdwyQ2vp4z"
      }
    },
    {
      "cell_type": "code",
      "execution_count": null,
      "metadata": {
        "id": "q6j2bMXQvLIv"
      },
      "outputs": [],
      "source": [
        "import json\n",
        "import gspread\n",
        "from google.colab import userdata\n",
        "from oauth2client.service_account import ServiceAccountCredentials\n",
        "import requests\n",
        "from datetime import datetime\n",
        "import pytz"
      ]
    },
    {
      "cell_type": "code",
      "source": [
        "# Set up OpenWeatherMap API credentials\n",
        "api_key = 'd8803f200694590d01f64d045af4efcf'\n",
        "lat = 28.55\n",
        "lon = -81.38\n",
        "\n",
        "# Set up Google Sheets credentials\n",
        "gcred = userdata.get('gcred')\n",
        "gcred = json.loads(gcred) #Convert creds to JSON\n",
        "\n",
        "# Authenticate with Google Sheets API\n",
        "scope = ['https://spreadsheets.google.com/feeds', 'https://www.googleapis.com/auth/drive']\n",
        "credentials = ServiceAccountCredentials.from_json_keyfile_dict(gcred,scope)\n",
        "client = gspread.authorize(credentials)\n"
      ],
      "metadata": {
        "id": "p6_L3-nxv-tE"
      },
      "execution_count": null,
      "outputs": []
    },
    {
      "cell_type": "markdown",
      "source": [
        "Define Function for unix conversion"
      ],
      "metadata": {
        "id": "7huDBp3eRmTd"
      }
    },
    {
      "cell_type": "code",
      "source": [
        "def convert_unix_to_eastern(unix):\n",
        "    utc_time = datetime.utcfromtimestamp(unix)\n",
        "\n",
        "    utc_time = utc_time.replace(tzinfo=pytz.utc) #Set the timezone for UTC\n",
        "\n",
        "    eastern = pytz.timezone('US/Eastern') #Define the Eastern timezone\n",
        "\n",
        "    eastern_time = utc_time.astimezone(eastern) #Convert the UTC time to Eastern Time\n",
        "\n",
        "    formatted_time = eastern_time.strftime('%Y-%m-%d %H:%M') # Format the datetime as a string\n",
        "\n",
        "    print(formatted_time)\n",
        "\n",
        "    return formatted_time"
      ],
      "metadata": {
        "id": "Lbr4fl0RvS32"
      },
      "execution_count": null,
      "outputs": []
    },
    {
      "cell_type": "markdown",
      "source": [
        "Open and Clear Google Sheet"
      ],
      "metadata": {
        "id": "GN7IGMugU9k_"
      }
    },
    {
      "cell_type": "code",
      "source": [
        "spreadsheet_name = 'weather'\n",
        "\n",
        "# Open the spreadsheet\n",
        "spreadsheet = client.open(spreadsheet_name)\n",
        "\n",
        "# Clear sheet\n",
        "worksheet = spreadsheet.sheet1\n",
        "worksheet.clear()"
      ],
      "metadata": {
        "colab": {
          "base_uri": "https://localhost:8080/"
        },
        "id": "Qzf2l1iuU853",
        "outputId": "c6b77afe-3031-4f6a-93c5-1b21dcf00200"
      },
      "execution_count": null,
      "outputs": [
        {
          "output_type": "execute_result",
          "data": {
            "text/plain": [
              "{'spreadsheetId': '1XpOArEsyNjReX-dwsPqDQAUyzoTFK2TS84ObEGDWGyA',\n",
              " 'clearedRange': 'Sheet1!A1:Z1000'}"
            ]
          },
          "metadata": {},
          "execution_count": 10
        }
      ]
    },
    {
      "cell_type": "markdown",
      "source": [
        "Get Current Weather"
      ],
      "metadata": {
        "id": "swDQ-xhuTs-f"
      }
    },
    {
      "cell_type": "code",
      "source": [
        "# Get the current weather data\n",
        "url = f'https://api.openweathermap.org/data/3.0/onecall?lat={lat}&lon={lon}&appid={api_key}&units=imperial'\n",
        "response = requests.get(url,timeout=30)\n",
        "data = response.json()\n",
        "\n",
        "# Extract the relevant information\n",
        "current_weather = {\n",
        "    'Date': convert_unix_to_eastern(data['current']['dt']),\n",
        "    'Temperature': data['current']['temp'],\n",
        "    'Humidity': data['current']['humidity'],\n",
        "    'Description': data['current']['weather'][0]['description'],\n",
        "    'Pressure': data['current']['pressure'],\n",
        "    'WindSpeed': data['current']['wind_speed'],\n",
        "    'WindDir': data['current']['wind_deg'],\n",
        "    'Sunrise': convert_unix_to_eastern(data['current']['sunrise']),\n",
        "    'Sunset': convert_unix_to_eastern(data['current']['sunset']),\n",
        "    'FeelsLike' : data['current']['feels_like'],\n",
        "    'UVIndex' : data['current']['uvi']\n",
        "}\n",
        "\n",
        "# Update the Google Sheet with the current weather data and time\n",
        "worksheet.append_row(list(current_weather.values()))"
      ],
      "metadata": {
        "colab": {
          "base_uri": "https://localhost:8080/"
        },
        "id": "AUbQ1sH6RenA",
        "outputId": "b9bc0e28-5140-4135-bdaa-97ea9fe1a129"
      },
      "execution_count": null,
      "outputs": [
        {
          "output_type": "stream",
          "name": "stdout",
          "text": [
            "2024-02-09 16:35\n",
            "2024-02-09 07:08\n",
            "2024-02-09 18:10\n"
          ]
        },
        {
          "output_type": "execute_result",
          "data": {
            "text/plain": [
              "{'spreadsheetId': '1XpOArEsyNjReX-dwsPqDQAUyzoTFK2TS84ObEGDWGyA',\n",
              " 'updates': {'spreadsheetId': '1XpOArEsyNjReX-dwsPqDQAUyzoTFK2TS84ObEGDWGyA',\n",
              "  'updatedRange': 'Sheet1!A1:K1',\n",
              "  'updatedRows': 1,\n",
              "  'updatedColumns': 11,\n",
              "  'updatedCells': 11}}"
            ]
          },
          "metadata": {},
          "execution_count": 11
        }
      ]
    },
    {
      "cell_type": "markdown",
      "source": [
        "Get Forecast Data"
      ],
      "metadata": {
        "id": "gIdknA0AVhZw"
      }
    },
    {
      "cell_type": "code",
      "source": [
        "# Get the forecast data\n",
        "url = f'https://api.openweathermap.org/data/2.5/forecast?lat={lat}&lon={lon}&appid={api_key}&units=imperial'\n",
        "response = requests.get(url,timeout=30)\n",
        "data = response.json()\n",
        "\n",
        "# Extract the relevant forecast information\n",
        "forecast = []\n",
        "for forecast_item in data['list']:\n",
        "\n",
        "    forecast_data = {\n",
        "        'Date': convert_unix_to_eastern(forecast_item['dt']),\n",
        "        'Temperature': forecast_item['main']['temp'],\n",
        "        'Humidity': forecast_item['main']['humidity'],\n",
        "        'Description': forecast_item['weather'][0]['description'],\n",
        "        'Pressure' : forecast_item['main']['pressure'],\n",
        "        'WindSpeed': forecast_item['wind']['speed'],\n",
        "        'WindDir': forecast_item['wind']['deg'],\n",
        "        'Sunrise': 0,\n",
        "        'Sunset': 0,\n",
        "        'FeelsLike' : forecast_item['main']['feels_like'],\n",
        "        'UVIndex' : 0\n",
        "    }\n",
        "    forecast.append(forecast_data)\n",
        "\n",
        "# Update the Google Sheet with the forecast data\n",
        "for forecast_data in forecast:\n",
        "    worksheet.append_row(list(forecast_data.values()))\n",
        "\n",
        "print('Weather data and forecast have been stored in the Google Sheet.')"
      ],
      "metadata": {
        "colab": {
          "base_uri": "https://localhost:8080/"
        },
        "id": "7RsZ_6xjV9VU",
        "outputId": "c7df6b32-71a3-4691-c9e2-b115bcf680b8"
      },
      "execution_count": null,
      "outputs": [
        {
          "output_type": "stream",
          "name": "stdout",
          "text": [
            "2024-02-09 19:00\n",
            "2024-02-09 22:00\n",
            "2024-02-10 01:00\n",
            "2024-02-10 04:00\n",
            "2024-02-10 07:00\n",
            "2024-02-10 10:00\n",
            "2024-02-10 13:00\n",
            "2024-02-10 16:00\n",
            "2024-02-10 19:00\n",
            "2024-02-10 22:00\n",
            "2024-02-11 01:00\n",
            "2024-02-11 04:00\n",
            "2024-02-11 07:00\n",
            "2024-02-11 10:00\n",
            "2024-02-11 13:00\n",
            "2024-02-11 16:00\n",
            "2024-02-11 19:00\n",
            "2024-02-11 22:00\n",
            "2024-02-12 01:00\n",
            "2024-02-12 04:00\n",
            "2024-02-12 07:00\n",
            "2024-02-12 10:00\n",
            "2024-02-12 13:00\n",
            "2024-02-12 16:00\n",
            "2024-02-12 19:00\n",
            "2024-02-12 22:00\n",
            "2024-02-13 01:00\n",
            "2024-02-13 04:00\n",
            "2024-02-13 07:00\n",
            "2024-02-13 10:00\n",
            "2024-02-13 13:00\n",
            "2024-02-13 16:00\n",
            "2024-02-13 19:00\n",
            "2024-02-13 22:00\n",
            "2024-02-14 01:00\n",
            "2024-02-14 04:00\n",
            "2024-02-14 07:00\n",
            "2024-02-14 10:00\n",
            "2024-02-14 13:00\n",
            "2024-02-14 16:00\n",
            "Weather data and forecast have been stored in the Google Sheet.\n"
          ]
        }
      ]
    }
  ]
}